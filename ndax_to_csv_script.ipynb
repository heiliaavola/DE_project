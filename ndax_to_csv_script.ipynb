{
 "cells": [
  {
   "cell_type": "code",
   "execution_count": 4,
   "metadata": {},
   "outputs": [
    {
     "name": "stdout",
     "output_type": "stream",
     "text": [
      "Requirement already satisfied: LimeNDAX in c:\\users\\heili\\anaconda3\\lib\\site-packages (1.0.3)\n",
      "Requirement already satisfied: pandas in c:\\users\\heili\\anaconda3\\lib\\site-packages (from LimeNDAX) (2.0.3)\n",
      "Requirement already satisfied: numpy in c:\\users\\heili\\anaconda3\\lib\\site-packages (from LimeNDAX) (1.24.3)\n",
      "Requirement already satisfied: python-dateutil>=2.8.2 in c:\\users\\heili\\anaconda3\\lib\\site-packages (from pandas->LimeNDAX) (2.8.2)\n",
      "Requirement already satisfied: pytz>=2020.1 in c:\\users\\heili\\anaconda3\\lib\\site-packages (from pandas->LimeNDAX) (2023.3.post1)\n",
      "Requirement already satisfied: tzdata>=2022.1 in c:\\users\\heili\\anaconda3\\lib\\site-packages (from pandas->LimeNDAX) (2023.3)\n",
      "Requirement already satisfied: six>=1.5 in c:\\users\\heili\\anaconda3\\lib\\site-packages (from python-dateutil>=2.8.2->pandas->LimeNDAX) (1.16.0)\n",
      "Note: you may need to restart the kernel to use updated packages.\n"
     ]
    }
   ],
   "source": [
    "pip install LimeNDAX"
   ]
  },
  {
   "cell_type": "code",
   "execution_count": 5,
   "metadata": {},
   "outputs": [
    {
     "name": "stdout",
     "output_type": "stream",
     "text": [
      "['__builtins__', '__cached__', '__doc__', '__file__', '__loader__', '__name__', '__package__', '__path__', '__spec__', 'get_barcode', 'get_cycle', 'get_process_name', 'get_recipe', 'get_records', 'get_remarks', 'get_starttime', 'get_step', 'ndax_basic', 'ndax_functions']\n"
     ]
    }
   ],
   "source": [
    "import LimeNDAX\n",
    "print(dir(LimeNDAX))"
   ]
  },
  {
   "cell_type": "code",
   "execution_count": 6,
   "metadata": {},
   "outputs": [
    {
     "name": "stdout",
     "output_type": "stream",
     "text": [
      "Successfully converted: 1001.ndax to 1001.csv\n",
      "Successfully converted: 1002.ndax to 1002.csv\n",
      "Error converting file 1009.ndax: 25\n",
      "Error converting file 1010.ndax: 25\n"
     ]
    }
   ],
   "source": [
    "import os\n",
    "import pandas as pd\n",
    "from LimeNDAX import get_records\n",
    "\n",
    "def convert_ndax_to_csv(input_folder, output_folder):\n",
    "    \"\"\"\n",
    "    Converts all NDAX files in the input folder to CSV files in the output folder.\n",
    "\n",
    "    Parameters:\n",
    "    - input_folder (str): Path to the folder containing NDAX files.\n",
    "    - output_folder (str): Path to the folder where the CSV files will be saved.\n",
    "    \"\"\"\n",
    "    # Create output directory if it doesn't exist\n",
    "    os.makedirs(output_folder, exist_ok=True)\n",
    "\n",
    "    # Iterate over all files in the input folder\n",
    "    for filename in os.listdir(input_folder):\n",
    "        if filename.lower().endswith('.ndax'):\n",
    "            file_path = os.path.join(input_folder, filename)\n",
    "\n",
    "            try:\n",
    "                # Extract data using get_records from LimeNDAX\n",
    "                df = get_records(file_path)\n",
    "\n",
    "                # Generate output CSV filename\n",
    "                csv_filename = os.path.splitext(filename)[0] + '.csv'\n",
    "                csv_file_path = os.path.join(output_folder, csv_filename)\n",
    "\n",
    "                # Save the DataFrame to a CSV file\n",
    "                df.to_csv(csv_file_path, index=False)\n",
    "                print(f\"Successfully converted: {filename} to {csv_filename}\")\n",
    "            \n",
    "            except Exception as e:\n",
    "                print(f\"Error converting file {filename}: {str(e)}\")\n",
    "\n",
    "if __name__ == \"__main__\":\n",
    "    input_folder = r\"C:\\Users\\heili\\OneDrive - Tartu Ülikool\\Msc Andmeteadus\\III semester\\data_engineering_2024\\Project\\DE_project\\anonymized_data_package\\machine_1\\ndax_files\\short_measurements\"  # Update with your input folder path\n",
    "    output_folder = r\"C:\\Users\\heili\\OneDrive - Tartu Ülikool\\Msc Andmeteadus\\III semester\\data_engineering_2024\\Project\\DE_project\\anonymized_data_package\\machine_1_csv\\machine_1_csv_short\"  # Update with your output folder path\n",
    "\n",
    "    convert_ndax_to_csv(input_folder, output_folder)\n"
   ]
  }
 ],
 "metadata": {
  "kernelspec": {
   "display_name": "base",
   "language": "python",
   "name": "python3"
  },
  "language_info": {
   "codemirror_mode": {
    "name": "ipython",
    "version": 3
   },
   "file_extension": ".py",
   "mimetype": "text/x-python",
   "name": "python",
   "nbconvert_exporter": "python",
   "pygments_lexer": "ipython3",
   "version": "3.11.4"
  }
 },
 "nbformat": 4,
 "nbformat_minor": 2
}
