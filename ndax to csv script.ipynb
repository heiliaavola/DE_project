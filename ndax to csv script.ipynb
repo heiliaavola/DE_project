{
 "cells": [
  {
   "cell_type": "code",
   "execution_count": 1,
   "metadata": {},
   "outputs": [
    {
     "name": "stdout",
     "output_type": "stream",
     "text": [
      "Collecting LimeNDAX\n",
      "  Downloading LimeNDAX-1.0.3-py3-none-any.whl.metadata (1.8 kB)\n",
      "Requirement already satisfied: pandas in c:\\users\\heiliaavola\\anaconda3\\lib\\site-packages (from LimeNDAX) (2.2.2)\n",
      "Requirement already satisfied: numpy in c:\\users\\heiliaavola\\anaconda3\\lib\\site-packages (from LimeNDAX) (1.26.4)\n",
      "Requirement already satisfied: python-dateutil>=2.8.2 in c:\\users\\heiliaavola\\anaconda3\\lib\\site-packages (from pandas->LimeNDAX) (2.9.0.post0)\n",
      "Requirement already satisfied: pytz>=2020.1 in c:\\users\\heiliaavola\\anaconda3\\lib\\site-packages (from pandas->LimeNDAX) (2024.1)\n",
      "Requirement already satisfied: tzdata>=2022.7 in c:\\users\\heiliaavola\\anaconda3\\lib\\site-packages (from pandas->LimeNDAX) (2023.3)\n",
      "Requirement already satisfied: six>=1.5 in c:\\users\\heiliaavola\\anaconda3\\lib\\site-packages (from python-dateutil>=2.8.2->pandas->LimeNDAX) (1.16.0)\n",
      "Downloading LimeNDAX-1.0.3-py3-none-any.whl (14 kB)\n",
      "Installing collected packages: LimeNDAX\n",
      "Successfully installed LimeNDAX-1.0.3\n",
      "Note: you may need to restart the kernel to use updated packages.\n"
     ]
    }
   ],
   "source": [
    "pip install LimeNDAX"
   ]
  },
  {
   "cell_type": "code",
   "execution_count": 3,
   "metadata": {},
   "outputs": [
    {
     "name": "stdout",
     "output_type": "stream",
     "text": [
      "['__builtins__', '__cached__', '__doc__', '__file__', '__loader__', '__name__', '__package__', '__path__', '__spec__', 'get_barcode', 'get_cycle', 'get_process_name', 'get_recipe', 'get_records', 'get_remarks', 'get_starttime', 'get_step', 'ndax_basic', 'ndax_functions']\n"
     ]
    }
   ],
   "source": [
    "import LimeNDAX\n",
    "print(dir(LimeNDAX))"
   ]
  },
  {
   "cell_type": "code",
   "execution_count": 6,
   "metadata": {},
   "outputs": [
    {
     "name": "stdout",
     "output_type": "stream",
     "text": [
      "Successfully converted: 1003.ndax to 1003.csv\n",
      "Successfully converted: 1004.ndax to 1004.csv\n",
      "Successfully converted: 1005.ndax to 1005.csv\n"
     ]
    },
    {
     "name": "stderr",
     "output_type": "stream",
     "text": [
      "c:\\Users\\HeiliAavola\\anaconda3\\Lib\\site-packages\\LimeNDAX\\ndax_functions.py:267: FutureWarning: A value is trying to be set on a copy of a DataFrame or Series through chained assignment using an inplace method.\n",
      "The behavior will change in pandas 3.0. This inplace method will never work because the intermediate object on which we are setting values always behaves as a copy.\n",
      "\n",
      "For example, when doing 'df[col].method(value, inplace=True)', try using 'df.method({col: value}, inplace=True)' or df[col] = df[col].method(value) instead, to perform the operation inplace on the original object.\n",
      "\n",
      "\n",
      "  data_df[\"Step\"].ffill(inplace=True)\n",
      "c:\\Users\\HeiliAavola\\anaconda3\\Lib\\site-packages\\LimeNDAX\\ndax_functions.py:33: UserWarning: IMPORTANT:This ndax is of the newest version.\n",
      "            The output from Code contains calculated data for time, timeinstep, capacity and energy, same as how NEWARE does.\n",
      "  warnings.warn(\n",
      "c:\\Users\\HeiliAavola\\anaconda3\\Lib\\site-packages\\LimeNDAX\\ndax_functions.py:61: FutureWarning: A value is trying to be set on a copy of a DataFrame or Series through chained assignment using an inplace method.\n",
      "The behavior will change in pandas 3.0. This inplace method will never work because the intermediate object on which we are setting values always behaves as a copy.\n",
      "\n",
      "For example, when doing 'df[col].method(value, inplace=True)', try using 'df.method({col: value}, inplace=True)' or df[col] = df[col].method(value) instead, to perform the operation inplace on the original object.\n",
      "\n",
      "\n",
      "  df[\"Time\"].where(nan_value2, time, inplace=True)\n",
      "c:\\Users\\HeiliAavola\\anaconda3\\Lib\\site-packages\\LimeNDAX\\ndax_functions.py:65: FutureWarning: 'S' is deprecated and will be removed in a future version. Please use 's' instead of 'S'.\n",
      "  timestamp = df[\"Timestamp\"].ffill() + pd.to_timedelta(time_inc.shift(), unit=\"S\")\n",
      "c:\\Users\\HeiliAavola\\anaconda3\\Lib\\site-packages\\LimeNDAX\\ndax_functions.py:66: FutureWarning: A value is trying to be set on a copy of a DataFrame or Series through chained assignment using an inplace method.\n",
      "The behavior will change in pandas 3.0. This inplace method will never work because the intermediate object on which we are setting values always behaves as a copy.\n",
      "\n",
      "For example, when doing 'df[col].method(value, inplace=True)', try using 'df.method({col: value}, inplace=True)' or df[col] = df[col].method(value) instead, to perform the operation inplace on the original object.\n",
      "\n",
      "\n",
      "  df[\"Timestamp\"].where(nan_value, timestamp, inplace=True)\n",
      "c:\\Users\\HeiliAavola\\anaconda3\\Lib\\site-packages\\LimeNDAX\\ndax_functions.py:69: FutureWarning: A value is trying to be set on a copy of a DataFrame or Series through chained assignment using an inplace method.\n",
      "The behavior will change in pandas 3.0. This inplace method will never work because the intermediate object on which we are setting values always behaves as a copy.\n",
      "\n",
      "For example, when doing 'df[col].method(value, inplace=True)', try using 'df.method({col: value}, inplace=True)' or df[col] = df[col].method(value) instead, to perform the operation inplace on the original object.\n",
      "\n",
      "\n",
      "  df[\"Capacity(Ah)\"].where(df[\"Time\"] != 0.0, 0.0, inplace=True)\n",
      "c:\\Users\\HeiliAavola\\anaconda3\\Lib\\site-packages\\LimeNDAX\\ndax_functions.py:78: FutureWarning: A value is trying to be set on a copy of a DataFrame or Series through chained assignment using an inplace method.\n",
      "The behavior will change in pandas 3.0. This inplace method will never work because the intermediate object on which we are setting values always behaves as a copy.\n",
      "\n",
      "For example, when doing 'df[col].method(value, inplace=True)', try using 'df.method({col: value}, inplace=True)' or df[col] = df[col].method(value) instead, to perform the operation inplace on the original object.\n",
      "\n",
      "\n",
      "  df[\"Capacity(Ah)\"].where(nan_value, cap, inplace=True)\n",
      "c:\\Users\\HeiliAavola\\anaconda3\\Lib\\site-packages\\LimeNDAX\\ndax_functions.py:84: FutureWarning: A value is trying to be set on a copy of a DataFrame or Series through chained assignment using an inplace method.\n",
      "The behavior will change in pandas 3.0. This inplace method will never work because the intermediate object on which we are setting values always behaves as a copy.\n",
      "\n",
      "For example, when doing 'df[col].method(value, inplace=True)', try using 'df.method({col: value}, inplace=True)' or df[col] = df[col].method(value) instead, to perform the operation inplace on the original object.\n",
      "\n",
      "\n",
      "  df[\"Energy(Wh)\"].where(nan_value, eng, inplace=True)\n"
     ]
    },
    {
     "name": "stdout",
     "output_type": "stream",
     "text": [
      "Successfully converted: 1006.ndax to 1006.csv\n",
      "Successfully converted: 1007.ndax to 1007.csv\n"
     ]
    },
    {
     "name": "stderr",
     "output_type": "stream",
     "text": [
      "c:\\Users\\HeiliAavola\\anaconda3\\Lib\\site-packages\\LimeNDAX\\ndax_functions.py:267: FutureWarning: A value is trying to be set on a copy of a DataFrame or Series through chained assignment using an inplace method.\n",
      "The behavior will change in pandas 3.0. This inplace method will never work because the intermediate object on which we are setting values always behaves as a copy.\n",
      "\n",
      "For example, when doing 'df[col].method(value, inplace=True)', try using 'df.method({col: value}, inplace=True)' or df[col] = df[col].method(value) instead, to perform the operation inplace on the original object.\n",
      "\n",
      "\n",
      "  data_df[\"Step\"].ffill(inplace=True)\n",
      "c:\\Users\\HeiliAavola\\anaconda3\\Lib\\site-packages\\LimeNDAX\\ndax_functions.py:33: UserWarning: IMPORTANT:This ndax is of the newest version.\n",
      "            The output from Code contains calculated data for time, timeinstep, capacity and energy, same as how NEWARE does.\n",
      "  warnings.warn(\n",
      "c:\\Users\\HeiliAavola\\anaconda3\\Lib\\site-packages\\LimeNDAX\\ndax_functions.py:61: FutureWarning: A value is trying to be set on a copy of a DataFrame or Series through chained assignment using an inplace method.\n",
      "The behavior will change in pandas 3.0. This inplace method will never work because the intermediate object on which we are setting values always behaves as a copy.\n",
      "\n",
      "For example, when doing 'df[col].method(value, inplace=True)', try using 'df.method({col: value}, inplace=True)' or df[col] = df[col].method(value) instead, to perform the operation inplace on the original object.\n",
      "\n",
      "\n",
      "  df[\"Time\"].where(nan_value2, time, inplace=True)\n",
      "c:\\Users\\HeiliAavola\\anaconda3\\Lib\\site-packages\\LimeNDAX\\ndax_functions.py:65: FutureWarning: 'S' is deprecated and will be removed in a future version. Please use 's' instead of 'S'.\n",
      "  timestamp = df[\"Timestamp\"].ffill() + pd.to_timedelta(time_inc.shift(), unit=\"S\")\n",
      "c:\\Users\\HeiliAavola\\anaconda3\\Lib\\site-packages\\LimeNDAX\\ndax_functions.py:66: FutureWarning: A value is trying to be set on a copy of a DataFrame or Series through chained assignment using an inplace method.\n",
      "The behavior will change in pandas 3.0. This inplace method will never work because the intermediate object on which we are setting values always behaves as a copy.\n",
      "\n",
      "For example, when doing 'df[col].method(value, inplace=True)', try using 'df.method({col: value}, inplace=True)' or df[col] = df[col].method(value) instead, to perform the operation inplace on the original object.\n",
      "\n",
      "\n",
      "  df[\"Timestamp\"].where(nan_value, timestamp, inplace=True)\n",
      "c:\\Users\\HeiliAavola\\anaconda3\\Lib\\site-packages\\LimeNDAX\\ndax_functions.py:69: FutureWarning: A value is trying to be set on a copy of a DataFrame or Series through chained assignment using an inplace method.\n",
      "The behavior will change in pandas 3.0. This inplace method will never work because the intermediate object on which we are setting values always behaves as a copy.\n",
      "\n",
      "For example, when doing 'df[col].method(value, inplace=True)', try using 'df.method({col: value}, inplace=True)' or df[col] = df[col].method(value) instead, to perform the operation inplace on the original object.\n",
      "\n",
      "\n",
      "  df[\"Capacity(Ah)\"].where(df[\"Time\"] != 0.0, 0.0, inplace=True)\n",
      "c:\\Users\\HeiliAavola\\anaconda3\\Lib\\site-packages\\LimeNDAX\\ndax_functions.py:78: FutureWarning: A value is trying to be set on a copy of a DataFrame or Series through chained assignment using an inplace method.\n",
      "The behavior will change in pandas 3.0. This inplace method will never work because the intermediate object on which we are setting values always behaves as a copy.\n",
      "\n",
      "For example, when doing 'df[col].method(value, inplace=True)', try using 'df.method({col: value}, inplace=True)' or df[col] = df[col].method(value) instead, to perform the operation inplace on the original object.\n",
      "\n",
      "\n",
      "  df[\"Capacity(Ah)\"].where(nan_value, cap, inplace=True)\n",
      "c:\\Users\\HeiliAavola\\anaconda3\\Lib\\site-packages\\LimeNDAX\\ndax_functions.py:84: FutureWarning: A value is trying to be set on a copy of a DataFrame or Series through chained assignment using an inplace method.\n",
      "The behavior will change in pandas 3.0. This inplace method will never work because the intermediate object on which we are setting values always behaves as a copy.\n",
      "\n",
      "For example, when doing 'df[col].method(value, inplace=True)', try using 'df.method({col: value}, inplace=True)' or df[col] = df[col].method(value) instead, to perform the operation inplace on the original object.\n",
      "\n",
      "\n",
      "  df[\"Energy(Wh)\"].where(nan_value, eng, inplace=True)\n"
     ]
    },
    {
     "name": "stdout",
     "output_type": "stream",
     "text": [
      "Successfully converted: 1008.ndax to 1008.csv\n"
     ]
    }
   ],
   "source": [
    "import os\n",
    "import pandas as pd\n",
    "from LimeNDAX import get_records\n",
    "\n",
    "def convert_ndax_to_csv(input_folder, output_folder):\n",
    "    \"\"\"\n",
    "    Converts all NDAX files in the input folder to CSV files in the output folder.\n",
    "\n",
    "    Parameters:\n",
    "    - input_folder (str): Path to the folder containing NDAX files.\n",
    "    - output_folder (str): Path to the folder where the CSV files will be saved.\n",
    "    \"\"\"\n",
    "    # Create output directory if it doesn't exist\n",
    "    os.makedirs(output_folder, exist_ok=True)\n",
    "\n",
    "    # Iterate over all files in the input folder\n",
    "    for filename in os.listdir(input_folder):\n",
    "        if filename.lower().endswith('.ndax'):\n",
    "            file_path = os.path.join(input_folder, filename)\n",
    "\n",
    "            try:\n",
    "                # Extract data using get_records from LimeNDAX\n",
    "                df = get_records(file_path)\n",
    "\n",
    "                # Generate output CSV filename\n",
    "                csv_filename = os.path.splitext(filename)[0] + '.csv'\n",
    "                csv_file_path = os.path.join(output_folder, csv_filename)\n",
    "\n",
    "                # Save the DataFrame to a CSV file\n",
    "                df.to_csv(csv_file_path, index=False)\n",
    "                print(f\"Successfully converted: {filename} to {csv_filename}\")\n",
    "            \n",
    "            except Exception as e:\n",
    "                print(f\"Error converting file {filename}: {str(e)}\")\n",
    "\n",
    "if __name__ == \"__main__\":\n",
    "    input_folder = r\"C:\\Users\\HeiliAavola\\OneDrive - Stargate Hydrogen\\Desktop\\UT DE project\\Miniproject Data\\Anonymized data package\\Machine 1\\ndax files\\Long measurements - Copy\"  # Update with your input folder path\n",
    "    output_folder = r\"C:\\Users\\HeiliAavola\\OneDrive - Stargate Hydrogen\\Desktop\\UT DE project\\Miniproject Data\\Anonymized data package\\Machine 1\\ndax files\\Long meausremets test ndax to csv\"  # Update with your output folder path\n",
    "\n",
    "    convert_ndax_to_csv(input_folder, output_folder)\n"
   ]
  }
 ],
 "metadata": {
  "kernelspec": {
   "display_name": "base",
   "language": "python",
   "name": "python3"
  },
  "language_info": {
   "codemirror_mode": {
    "name": "ipython",
    "version": 3
   },
   "file_extension": ".py",
   "mimetype": "text/x-python",
   "name": "python",
   "nbconvert_exporter": "python",
   "pygments_lexer": "ipython3",
   "version": "3.12.4"
  }
 },
 "nbformat": 4,
 "nbformat_minor": 2
}
