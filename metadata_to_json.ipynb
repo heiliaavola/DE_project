{
 "cells": [
  {
   "cell_type": "code",
   "execution_count": 1,
   "metadata": {},
   "outputs": [
    {
     "name": "stdout",
     "output_type": "stream",
     "text": [
      "Generated: 1001_metadata.json\n",
      "Generated: 1002_metadata.json\n",
      "Generated: 1003_metadata.json\n",
      "Generated: 1004_metadata.json\n",
      "Generated: 1005_metadata.json\n",
      "Generated: 1006_metadata.json\n",
      "Generated: 1007_metadata.json\n",
      "Generated: 1008_metadata.json\n",
      "Generated: 1009_metadata.json\n",
      "Generated: 1010_metadata.json\n",
      "Generated: 2001_metadata.json\n",
      "Generated: 2002_metadata.json\n",
      "Generated: 2003_metadata.json\n",
      "Generated: 2004_metadata.json\n",
      "Generated: 2005_metadata.json\n",
      "Generated: 2006_metadata.json\n",
      "Generated: 2007_metadata.json\n",
      "Generated: 2008_metadata.json\n",
      "Generated: 2009_metadata.json\n",
      "Generated: 2010_metadata.json\n"
     ]
    }
   ],
   "source": [
    "import pandas as pd\n",
    "import json\n",
    "\n",
    "# Load the Excel file\n",
    "def convert_to_json(file_path):\n",
    "    df = pd.read_excel(file_path)\n",
    "\n",
    "    # Iterate through each row and save as a JSON file\n",
    "    for index, row in df.iterrows():\n",
    "        json_name = row['json_name'] + '.json'\n",
    "        data = {\n",
    "            \"operator_name\": row['operator_name'],\n",
    "            \"operator_level\": row['operator_level'],\n",
    "            \"machine_name\": row['machine_name'],\n",
    "            \"machine_type\": row['machine_type'],\n",
    "            \"electrode_material\": row['electrode_material'],\n",
    "            \"measurement_name\": row['measurement_name']\n",
    "        }\n",
    "\n",
    "        # Write JSON file\n",
    "        with open(json_name, 'w') as json_file:\n",
    "            json.dump(data, json_file, indent=4)\n",
    "\n",
    "        print(f\"Generated: {json_name}\")\n",
    "\n",
    "# Path to the Excel file\n",
    "file_path = r'C:\\Users\\heili\\OneDrive - Tartu Ülikool\\Msc Andmeteadus\\III semester\\data_engineering_2024\\Project\\DE_project\\anonymized_data_package_ver2\\metadata_excel.xlsx'\n",
    "convert_to_json(file_path)\n"
   ]
  }
 ],
 "metadata": {
  "kernelspec": {
   "display_name": "base",
   "language": "python",
   "name": "python3"
  },
  "language_info": {
   "codemirror_mode": {
    "name": "ipython",
    "version": 3
   },
   "file_extension": ".py",
   "mimetype": "text/x-python",
   "name": "python",
   "nbconvert_exporter": "python",
   "pygments_lexer": "ipython3",
   "version": "3.11.4"
  }
 },
 "nbformat": 4,
 "nbformat_minor": 2
}
